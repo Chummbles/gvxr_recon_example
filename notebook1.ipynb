{
 "cells": [
  {
   "cell_type": "code",
   "execution_count": 1,
   "metadata": {},
   "outputs": [],
   "source": [
    "%matplotlib inline \n",
    "import gvxrPython3 as gvxr\n",
    "import matplotlib.image as mpimg\n",
    "import matplotlib.pyplot as mpplt\n",
    "import numpy as np\n",
    "import SimpleITK as sitk\n",
    "import copy\n",
    "from skimage.transform import iradon"
   ]
  },
  {
   "cell_type": "code",
   "execution_count": 2,
   "metadata": {},
   "outputs": [],
   "source": [
    "number_of_projections = 360;\n",
    "rayEnergy = 73; \n",
    "angular_step = 180 / number_of_projections;\n",
    "pixel_spacing_in_micrometre = 0.625;\n",
    "gvxr.createWindow();\n",
    "gvxr.setWindowSize(512, 512);\n",
    "gvxr.setSourcePosition(0, -500, 0, \"um\");\n",
    "gvxr.useParallelBeam();\n",
    "gvxr.setMonoChromatic(rayEnergy, \"keV\", 1);\n",
    "gvxr.setDetectorPosition(0, 500, 0, \"um\");\n",
    "gvxr.setDetectorUpVector(0, 0, 1);\n",
    "gvxr.setDetectorNumberOfPixels(150, 100);\n",
    "gvxr.setDetectorPixelSize(0.625, 0.7, \"um\");"
   ]
  },
  {
   "cell_type": "code",
   "execution_count": 3,
   "metadata": {},
   "outputs": [],
   "source": [
    "\n",
    "gvxr.makeCylinder(\"cyl\", 20, 20, 10, \"um\");\n",
    "gvxr.setHU(\"cyl\", 500);\n",
    "gvxr.makeCube(\"cube\", 50, \"um\");\n",
    "gvxr.setHU(\"cube\", 100);\n",
    "\n",
    "gvxr.addPolygonMeshAsOuterSurface(\"cube\");\n",
    "gvxr.addPolygonMeshAsInnerSurface(\"cyl\");"
   ]
  },
  {
   "cell_type": "code",
   "execution_count": 4,
   "metadata": {},
   "outputs": [],
   "source": [
    "raw_projections = [];\n",
    "theta = [];\n",
    "for angle_id in range(0, number_of_projections):\n",
    "    gvxr.rotateScene(-angular_step, 0, 0, 1);\n",
    "    theta.append(-angular_step * angle_id);\n",
    "    #gvxr.displayScene();\n",
    "    xray_image = np.array(gvxr.computeXRayImage());\n",
    "    raw_projections.append(xray_image);\n",
    "    \n",
    "raw_projections = np.array(raw_projections);\n",
    "raw_projections = raw_projections / gvxr.getUnitOfEnergy(\"keV\");\n",
    "#gvxr.renderLoop();"
   ]
  },
  {
   "cell_type": "code",
   "execution_count": 5,
   "metadata": {},
   "outputs": [],
   "source": [
    "# Create a mock dark field image\n",
    "dark_field_image = np.zeros(raw_projections.shape);\n",
    "\n",
    "# Create a mock flat field image\n",
    "flat_field_image = np.ones(raw_projections.shape);\n",
    "\n",
    "# Retrieve the total energy\n",
    "total_energy = 0.0;\n",
    "energy_bins = gvxr.getEnergyBins(\"keV\");\n",
    "photon_count_per_bin = gvxr.getPhotonCountEnergyBins();\n",
    "\n",
    "for energy, count in zip(energy_bins, photon_count_per_bin):\n",
    "    total_energy += energy * count;\n",
    "flat_field_image *= total_energy;\n",
    "    \n",
    "# Apply the actual flat-field correction on the raw projections\n",
    "corrected_projections = (raw_projections - dark_field_image) / (flat_field_image - dark_field_image);\n",
    "    \n",
    "    "
   ]
  },
  {
   "cell_type": "code",
   "execution_count": 6,
   "metadata": {},
   "outputs": [],
   "source": [
    "\n",
    "# Create a temporary image to hold the sinogram\n",
    "simulated_sinogram = copy.deepcopy(corrected_projections);\n",
    "    \n",
    "# Make sure no value is negative or null (because of the log function)\n",
    "# It should not be the case, however, when the Laplacian is used to simulate\n",
    "# phase contrast, negative values can be generated.\n",
    "threshold = 0.000000001\n",
    "simulated_sinogram[simulated_sinogram < threshold] = threshold;\n",
    "\n",
    "# Apply the minus log normalisation\n",
    "simulated_sinogram = -np.log(simulated_sinogram);\n",
    "\n",
    "# Rescale the data taking into account the pixel size\n",
    "simulated_sinogram /= pixel_spacing_in_micrometre * (gvxr.getUnitOfLength(\"um\") / gvxr.getUnitOfLength(\"cm\"));"
   ]
  },
  {
   "cell_type": "code",
   "execution_count": 7,
   "metadata": {},
   "outputs": [
    {
     "name": "stdout",
     "output_type": "stream",
     "text": [
      "100\n",
      "a\n",
      "reconstructing slice #  50\n",
      "done\n",
      "mu air 0.00020984587536077015\n",
      "mu water 0.19114477559924126\n"
     ]
    }
   ],
   "source": [
    "CT_slice_from_simulated_sinogram = [];\n",
    "   \n",
    "simulated_sinogram = np.swapaxes(simulated_sinogram, 0, 1); # slices as sinograms\n",
    "\n",
    "print(len(simulated_sinogram));\n",
    "slice = len(simulated_sinogram);\n",
    "\n",
    "print(\"a\");\n",
    "slice = int(slice / 2);\n",
    "print(\"reconstructing slice # \", slice);\n",
    "CT_slice_from_simulated_sinogram.append(iradon(simulated_sinogram[slice].T, theta=theta, circle=True));\n",
    "       \n",
    "print(\"done\");\n",
    "# Save the CT slice\n",
    "CT_slice_from_simulated_sinogram = np.array(CT_slice_from_simulated_sinogram);\n",
    "    \n",
    "    \n",
    "    \n",
    "volume = sitk.GetImageFromArray(CT_slice_from_simulated_sinogram);\n",
    "volume.SetSpacing([0.625, 0.625, 0.7]);\n",
    "sitk.WriteImage(volume, \"recon_in_MU.mha\", useCompression=True);\n",
    "\n",
    "MU_air = gvxr.getMuFromHU(-1000.0, rayEnergy, \"keV\");\n",
    "#MU_water = 1.707*0.1;\n",
    "MU_water = gvxr.getMuFromHU(0, rayEnergy, \"keV\");\n",
    "    \n",
    "print(\"mu air\", MU_air);\n",
    "print(\"mu water\", MU_water);\n",
    "copied = copy.deepcopy(CT_slice_from_simulated_sinogram);\n",
    "CT_slice_from_simulated_sinogram = 1000.0 * ((copied - MU_water) / (MU_water - MU_air));\n",
    "    \n",
    "volume = sitk.GetImageFromArray(CT_slice_from_simulated_sinogram);\n",
    "volume.SetSpacing([0.625, 0.625, 0.7]);\n",
    "sitk.WriteImage(volume, \"recon_in_HU.mha\", useCompression=True);"
   ]
  },
  {
   "cell_type": "code",
   "execution_count": null,
   "metadata": {},
   "outputs": [],
   "source": []
  }
 ],
 "metadata": {
  "kernelspec": {
   "display_name": "Python 3",
   "language": "python",
   "name": "python3"
  },
  "language_info": {
   "codemirror_mode": {
    "name": "ipython",
    "version": 3
   },
   "file_extension": ".py",
   "mimetype": "text/x-python",
   "name": "python",
   "nbconvert_exporter": "python",
   "pygments_lexer": "ipython3",
   "version": "3.8.5"
  }
 },
 "nbformat": 4,
 "nbformat_minor": 4
}
